{
 "cells": [
  {
   "cell_type": "markdown",
   "metadata": {},
   "source": [
    "# Assignment 03"
   ]
  },
  {
   "cell_type": "markdown",
   "metadata": {},
   "source": [
    "### 1. Make a calculator using Python with addition , subtraction , multiplication , division and power.\n"
   ]
  },
  {
   "cell_type": "code",
   "execution_count": 2,
   "metadata": {},
   "outputs": [
    {
     "name": "stdout",
     "output_type": "stream",
     "text": [
      "`-`\n",
      "The subtraction of :  7 - 5 = 2\n"
     ]
    }
   ],
   "source": [
    "choice = int(input(\"Enter the operation: \\n 1:Add(`+) \\n 2:Subtraction(`-`) \\n 3:Multiplication(`*`) \\n 4:Division(`/`) \\n 5:Power(`**`) \\n\"))\n",
    "num1 = int(input(\"Enter the first number :\"))\n",
    "num2 = int(input(\"Enter the second number :\"))\n",
    "if choice == 1:\n",
    "    print(\"`+`\")\n",
    "    print(\"The addition of : \",num1,\"+\",num2,\"=\",num1+num2)\n",
    "elif choice == 2:\n",
    "    print(\"`-`\")\n",
    "    print(\"The subtraction of : \",num1,\"-\",num2,\"=\",num1-num2)\n",
    "elif choice == 3:\n",
    "    print(\"`*`\")\n",
    "    print(\"The multiplication of : \",num1,\"X\",num2,\"=\",num1*num2)\n",
    "elif choice == 4:\n",
    "    print(\"`/`\")\n",
    "    print(\"The division of : \",num1,\"/\",num2,\"=\",num1/num2)\n",
    "elif choice == 5:\n",
    "    print(\"`**`\")\n",
    "    print(\"The power of : \",num1,\"**\",num2,\"=\",num1**num2)\n",
    "else:\n",
    "    print(\"Invalid Operation ....!\")"
   ]
  },
  {
   "cell_type": "markdown",
   "metadata": {},
   "source": [
    "### 2. Write a program to check if there is any numeric value in list using for loop and print the type of the elements from the list"
   ]
  },
  {
   "cell_type": "code",
   "execution_count": 3,
   "metadata": {},
   "outputs": [
    {
     "name": "stdout",
     "output_type": "stream",
     "text": [
      "Numeric values are !!\n",
      "10\n",
      "3\n",
      "18\n",
      "-6\n",
      "<class 'str'>\n",
      "<class 'bool'>\n",
      "<class 'int'>\n",
      "<class 'int'>\n",
      "<class 'str'>\n",
      "<class 'int'>\n",
      "<class 'int'>\n",
      "<class 'float'>\n",
      "<class 'list'>\n"
     ]
    }
   ],
   "source": [
    "valueList = [\"Hello World!\",False,10,3,\"name\",18 , -6 ,10.0 , [10,11] ]\n",
    "print(\"Numeric values are !!\")\n",
    "for i in range(len(valueList)):\n",
    "    if type(valueList[i]) == int:\n",
    "        print(valueList[i])\n",
    "# Type of the all elements on the list\n",
    "for i in range(len(valueList)):\n",
    "    print(type(valueList[i]))"
   ]
  },
  {
   "cell_type": "markdown",
   "metadata": {},
   "source": [
    "### 3. Write a Python script to add a key to a dictionary"
   ]
  },
  {
   "cell_type": "code",
   "execution_count": 4,
   "metadata": {},
   "outputs": [
    {
     "name": "stdout",
     "output_type": "stream",
     "text": [
      "{'name': 'Renata', 'Mother name': 'Nala', 'student id': '2023-BCHCS-0001', 'Course': 'Computer Science'}\n"
     ]
    }
   ],
   "source": [
    "student = {\"name\": 'Renata' ,'Mother name' :'Nala' ,'student id': '2023-BCHCS-0001' }\n",
    "student[\"Course\"] =\"Computer Science\" \n",
    "print(student)"
   ]
  },
  {
   "cell_type": "markdown",
   "metadata": {},
   "source": [
    "### 4. Write a Python program to sum all the numeric items in a dictionary"
   ]
  },
  {
   "cell_type": "code",
   "execution_count": 6,
   "metadata": {},
   "outputs": [
    {
     "name": "stdout",
     "output_type": "stream",
     "text": [
      "70\n"
     ]
    }
   ],
   "source": [
    "data = {'A':10 ,'B':15 ,'C':20 ,'D':25}\n",
    "print(sum(data.values()))"
   ]
  },
  {
   "cell_type": "markdown",
   "metadata": {},
   "source": [
    "### 5. Write a program to identify duplicate values from list"
   ]
  },
  {
   "cell_type": "code",
   "execution_count": 8,
   "metadata": {},
   "outputs": [
    {
     "name": "stdout",
     "output_type": "stream",
     "text": [
      "Duplicated elements: [1, 2, 3]\n"
     ]
    }
   ],
   "source": [
    "from collections import Counter\n",
    "\n",
    "def find_duplicates(lst):\n",
    "    #get the list(lst)\n",
    "    #count the number of occurrences of each item\n",
    "    counter = Counter(lst)\n",
    "    #find the items that have more than 1 occurrence in the list (lst) \n",
    "    # create a list of items that have more than 1 occurrence (duplicates)\n",
    "    #return the list of items that have more than 1 occurrence\n",
    "    duplicates = [item for item, count in counter.items() if count > 1]\n",
    "    return duplicates\n",
    "\n",
    "# Example usage:\n",
    "my_list = [1, 2, 3, 4, 5, 1, 2, 6, 7, 3]\n",
    "result = find_duplicates(my_list)\n",
    "print(\"Duplicated elements:\", result)"
   ]
  },
  {
   "cell_type": "markdown",
   "metadata": {},
   "source": [
    "### 6. Write a Python script to check if a given key already exists in a dictionary"
   ]
  },
  {
   "cell_type": "code",
   "execution_count": 9,
   "metadata": {},
   "outputs": [
    {
     "name": "stdout",
     "output_type": "stream",
     "text": [
      "The key 'age' exists in the dictionary.\n"
     ]
    }
   ],
   "source": [
    "def key_exists(dictionary, key):\n",
    "    return key in dictionary\n",
    "\n",
    "# Example usage:\n",
    "my_dict = {'name': 'Renata', 'age': 31, 'city': 'Calgary'}\n",
    "given_key = 'name'\n",
    "\n",
    "given_key = 'age'\n",
    "if key_exists(my_dict, given_key):\n",
    "    #format string\n",
    "    print(f\"The key '{given_key}' exists in the dictionary.\")\n",
    "else:\n",
    "    print(f\"The key '{given_key}' does not exist in the dictionary.\")"
   ]
  }
 ],
 "metadata": {
  "kernelspec": {
   "display_name": "Python 3",
   "language": "python",
   "name": "python3"
  },
  "language_info": {
   "codemirror_mode": {
    "name": "ipython",
    "version": 3
   },
   "file_extension": ".py",
   "mimetype": "text/x-python",
   "name": "python",
   "nbconvert_exporter": "python",
   "pygments_lexer": "ipython3",
   "version": "3.10.0"
  }
 },
 "nbformat": 4,
 "nbformat_minor": 2
}
