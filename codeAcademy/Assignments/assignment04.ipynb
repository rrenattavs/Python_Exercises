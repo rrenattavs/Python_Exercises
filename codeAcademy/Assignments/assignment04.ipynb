{
 "cells": [
  {
   "cell_type": "markdown",
   "metadata": {},
   "source": [
    "# Assignment 04"
   ]
  },
  {
   "cell_type": "markdown",
   "metadata": {},
   "source": [
    "### Question 01 "
   ]
  },
  {
   "cell_type": "markdown",
   "metadata": {},
   "source": [
    "##### Use a dictionary to store information about a person you know. Store their first name, last name, age,and the city in which they live. You should have keys such as first_name, last_name, age, and city. Print each piece of information stored in your dictionary. Add a new key value pair about qualification then update the qualification value to high academic level then delete it.\n"
   ]
  },
  {
   "cell_type": "code",
   "execution_count": 11,
   "metadata": {},
   "outputs": [
    {
     "name": "stdout",
     "output_type": "stream",
     "text": [
      "{'first_name': 'John', 'last_name': 'Doe', 'age': 30, 'city': 'New York', 'children': ['Alice', 'Bob', 'Charlie'], 'pets': {'dog': 'Fido', 'cat': 'Fluffy'}}\n",
      "{'first_name': 'John', 'last_name': 'Smith', 'age': 30, 'city': 'New York', 'children': ['Alice', 'Bob', 'Charlie', 'Eve'], 'pets': {'dog': 'Fido', 'cat': 'Fluffy'}}\n",
      "{'first_name': 'John', 'last_name': 'Smith', 'age': 30, 'city': 'New York', 'children': ['Alice', 'Bob', 'Charlie', 'Eve'], 'pets': {'dog': 'Fido', 'cat': 'Fluffy', 'fish': 'Nemo'}, 'profession': 'Engineer'}\n"
     ]
    }
   ],
   "source": [
    "person = {\n",
    "    'first_name': 'John',\n",
    "    'last_name': 'Doe',\n",
    "    'age': 30,\n",
    "    'city': 'New York',\n",
    "    'children': ['Alice', 'Bob', 'Charlie'],\n",
    "    'pets': {\n",
    "        'dog': 'Fido',\n",
    "        'cat': 'Fluffy'\n",
    "    }\n",
    "}\n",
    "\n",
    "print(person)\n",
    "# Change the value of the 'last_name' key\n",
    "person['last_name'] = 'Smith'\n",
    "\n",
    "# Add a new child\n",
    "person['children'].append('Eve')\n",
    "print(person)\n",
    "# Add a new pet\n",
    "person['pets']['fish'] = 'Nemo'\n",
    "# Add the profession\n",
    "person['profession'] = 'Engineer'\n",
    "\n",
    "print(person)"
   ]
  },
  {
   "cell_type": "markdown",
   "metadata": {},
   "source": [
    "### Question 02\n",
    "##### Make a dictionary called cities. Use the names of three cities as keys in your dictionary. Create a dictionary of information about each city and include the country that the city is in, its approximate population, and one fact about that city. The keys for each city’s dictionary should be something like country, population, and fact. Print the name of each city and all of the information you have stored about it."
   ]
  },
  {
   "cell_type": "code",
   "execution_count": 15,
   "metadata": {},
   "outputs": [
    {
     "name": "stdout",
     "output_type": "stream",
     "text": [
      "{'New York': {'country': 'USA', 'population': '8.623 million', 'fact': 'Biggest city in the world'}, 'Montreal': {'country': 'Canada', 'population': '4,308 million', 'fact': 'birthplace and hub of Cirque du Soleil'}}\n",
      "4,308 million\n"
     ]
    }
   ],
   "source": [
    "cities = {\n",
    "    'New York': {\n",
    "        'country': 'USA',\n",
    "        'population': \"8.623 million\",\n",
    "        'fact': 'Biggest city in the world'\n",
    "    },\n",
    "    'Montreal': {\n",
    "        'country': 'Canada',\n",
    "        'population': \"4,308 million\",\n",
    "        'fact': 'birthplace and hub of Cirque du Soleil'\n",
    "\n",
    "    }\n",
    "}\n",
    "\n",
    "print(cities)\n",
    "print(cities['Montreal']['population'])"
   ]
  },
  {
   "cell_type": "markdown",
   "metadata": {},
   "source": [
    "### Question 03:\n",
    "##### A movie theater charges different ticket prices depending on a person’s age. If a person is under the age of 3, the ticket is free; if they are between 3 and 12, the ticket is 15. Write a loop in which you ask users their age, and then tell them the cost of their movie ticket."
   ]
  },
  {
   "cell_type": "code",
   "execution_count": 4,
   "metadata": {},
   "outputs": [
    {
     "name": "stdout",
     "output_type": "stream",
     "text": [
      "****TICKET PRICE****\n",
      "Name: Julia \n",
      "Age: 7 \n",
      "Price: The price of Ticket is $10.00 \n",
      "****TICKET PRICE****\n",
      "Name: Pedro \n",
      "Age: 3 \n",
      "Price: The Ticket is free \n",
      "****TICKET PRICE****\n",
      "Name: Sally \n",
      "Age: 15 \n",
      "Price: The price of Ticket is $15.00 \n"
     ]
    }
   ],
   "source": [
    "i = 0\n",
    "while i <= 10:\n",
    "    name = input(\"Enter the first name:\")\n",
    "    age = int(input(\"Enter age:\"))\n",
    "    print(\"****TICKET PRICE****\")\n",
    "    if age <= 3:\n",
    "       print(\"Name:\",name,\"\\nAge:\",age,\"\\nPrice: The Ticket is free \")\n",
    "    elif age <=12:\n",
    "        print(\"Name:\",name,\"\\nAge:\",age,\"\\nPrice: The price of Ticket is $10.00 \")\n",
    "    elif age >12:\n",
    "        print(\"Name:\",name,\"\\nAge:\",age,\"\\nPrice: The price of Ticket is $15.00 \")\n",
    "    i-=1"
   ]
  },
  {
   "cell_type": "markdown",
   "metadata": {},
   "source": [
    "### Question 04:\n",
    "##### Write a function called favorite_book() that accepts one parameter, title. The function should print a message, such as One of my favorite books is Alice in Wonderland. Call the function, making sure to include a book title as an argument in the function call.\n",
    "\n"
   ]
  },
  {
   "cell_type": "code",
   "execution_count": 3,
   "metadata": {},
   "outputs": [
    {
     "name": "stdout",
     "output_type": "stream",
     "text": [
      "One of my favorite books is Alice in Wonderland.\n"
     ]
    }
   ],
   "source": [
    "def favorite_book(title):\n",
    "    print(f\"One of my favorite books is {title}.\")\n",
    "\n",
    "# Example of a book:\n",
    "favorite_book(\"Alice in Wonderland\")"
   ]
  },
  {
   "cell_type": "markdown",
   "metadata": {},
   "source": [
    "### Question 05:\n",
    "##### Guess the number game Write a program which randomly generate a number between 1 to 30 and ask the user in input field to guess the correct number. Give three chances to user guess the number and also give hint to user if hidden number is greater or smaller than the number he given to input field."
   ]
  },
  {
   "cell_type": "code",
   "execution_count": 2,
   "metadata": {},
   "outputs": [
    {
     "name": "stdout",
     "output_type": "stream",
     "text": [
      "Hint: The hidden number is greater.\n",
      "Hint: The hidden number is smaller.\n",
      "Hint: The hidden number is greater.\n",
      "Sorry, you've run out of chances. The correct number was 13.\n"
     ]
    }
   ],
   "source": [
    "import random\n",
    "\n",
    "def guess_the_number():\n",
    "    hidden_number = random.randint(1, 30) # Generate a random number between 1 and 30\n",
    "    \n",
    "    for _ in range(3): # Give the user three chances to guess the number\n",
    "        user_guess = int(input(\"Guess the number (between 1 and 30): \")) # Get user input\n",
    "        \n",
    "        if user_guess == hidden_number:  # Check if the guess is correct\n",
    "            print(\"Congratulations! You guessed the correct number.\")\n",
    "            break\n",
    "        else:\n",
    "            if user_guess < hidden_number: # Provide a hint to the user\n",
    "                print(\"Hint: The hidden number is greater.\")\n",
    "            else:\n",
    "                print(\"Hint: The hidden number is smaller.\")\n",
    "    \n",
    "    else:\n",
    "        # If the loop completes without a correct guess, the user loses\n",
    "        print(f\"Sorry, you've run out of chances. The correct number was {hidden_number}.\")\n",
    "\n",
    "guess_the_number() # Call the function to start the game"
   ]
  }
 ],
 "metadata": {
  "kernelspec": {
   "display_name": "Python 3",
   "language": "python",
   "name": "python3"
  },
  "language_info": {
   "codemirror_mode": {
    "name": "ipython",
    "version": 3
   },
   "file_extension": ".py",
   "mimetype": "text/x-python",
   "name": "python",
   "nbconvert_exporter": "python",
   "pygments_lexer": "ipython3",
   "version": "3.10.0"
  }
 },
 "nbformat": 4,
 "nbformat_minor": 2
}
