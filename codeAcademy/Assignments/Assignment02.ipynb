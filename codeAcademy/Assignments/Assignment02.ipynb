{
 "cells": [
  {
   "cell_type": "markdown",
   "metadata": {},
   "source": [
    "# Assignment 02"
   ]
  },
  {
   "cell_type": "markdown",
   "metadata": {},
   "source": [
    "1. Write a program which takes 5 inputs from user for different subject’s marks, total it and generate mark sheet using grades ?"
   ]
  },
  {
   "cell_type": "code",
   "execution_count": 2,
   "metadata": {},
   "outputs": [
    {
     "name": "stdout",
     "output_type": "stream",
     "text": [
      "GRADE: 'B' -> YOU PASSED\n"
     ]
    }
   ],
   "source": [
    "score1 = int(input(\"Enter the marks of Science :\"))\n",
    "score2 = int(input(\"Enter the marks of English :\"))\n",
    "score3 = int(input(\"Enter the marks of Math :\"))\n",
    "score4 = int(input(\"Enter the marks of Biology :\"))\n",
    "score5 = int(input(\"Enter the marks of Chemistry :\"))\n",
    "score5 = int(input(\"Enter the marks of Chemistry :\"))\n",
    "total_score = 500 \n",
    "total_marks = score1 + score2 + score3 + score4 + score5\n",
    "grade= (total_marks/total_score) *100\n",
    "if grade >= 90:\n",
    "    print(\"GRADE: 'A -> YOU PASSED'\")\n",
    "elif grade >= 75:\n",
    "    print(\"GRADE: 'B' -> YOU PASSED\")\n",
    "elif grade >= 65: \n",
    "    print(\"GRADE: 'C' -> YOU PASSED\")\n",
    "elif grade >= 50:\n",
    "    print(\"GRADE: 'D'\")\n",
    "else:\n",
    "    print(\"GRADE: F -> YOU ARE FAIL !\")"
   ]
  },
  {
   "cell_type": "markdown",
   "metadata": {},
   "source": [
    "### 2. Write a program which take input from user and identify that the given number is even or odd?"
   ]
  },
  {
   "cell_type": "code",
   "execution_count": 4,
   "metadata": {},
   "outputs": [
    {
     "name": "stdout",
     "output_type": "stream",
     "text": [
      " The number is Even.\n",
      "The number is neither Even nor Odd.\n"
     ]
    }
   ],
   "source": [
    "num = float(input(\"Enter a number: \"))\n",
    "if num % 2 == 0:\n",
    "    print(\" The number is Even.\")\n",
    "if num % 2 == 1:\n",
    "    print(\"The number is Odd.\")\n",
    "else :\n",
    "    print(\"The number is neither Even nor Odd.\")"
   ]
  },
  {
   "cell_type": "markdown",
   "metadata": {},
   "source": [
    "### 3. Write a program which compare the string and the opposite, and compare if the string is a palindrome?"
   ]
  },
  {
   "cell_type": "code",
   "execution_count": 5,
   "metadata": {},
   "outputs": [
    {
     "name": "stdout",
     "output_type": "stream",
     "text": [
      "The string is a palindrome.\n"
     ]
    }
   ],
   "source": [
    "string = input(\"Enter a string: \")\n",
    "if string == string[::-1]:\n",
    "    print(\"The string is a palindrome.\")\n",
    "else:\n",
    "    print(\"The string is not a palindrome.\")"
   ]
  },
  {
   "cell_type": "markdown",
   "metadata": {},
   "source": [
    "### 4. Write a program which print the length of the list?"
   ]
  },
  {
   "cell_type": "code",
   "execution_count": 7,
   "metadata": {},
   "outputs": [
    {
     "name": "stdout",
     "output_type": "stream",
     "text": [
      "20\n"
     ]
    }
   ],
   "source": [
    "string = input(\"Enter a string: \")\n",
    "\n",
    "print(len(string))"
   ]
  },
  {
   "cell_type": "markdown",
   "metadata": {},
   "source": [
    "### 5. Write a Python program to sum all the numeric items in a list?"
   ]
  },
  {
   "cell_type": "code",
   "execution_count": 8,
   "metadata": {},
   "outputs": [
    {
     "name": "stdout",
     "output_type": "stream",
     "text": [
      "67\n"
     ]
    }
   ],
   "source": [
    "numbers = list ([15,16,17,19])\n",
    "print(sum(numbers))"
   ]
  },
  {
   "cell_type": "markdown",
   "metadata": {},
   "source": [
    "### 6. Write a Python program to get the largest number from a numeric list."
   ]
  },
  {
   "cell_type": "code",
   "execution_count": 9,
   "metadata": {},
   "outputs": [
    {
     "name": "stdout",
     "output_type": "stream",
     "text": [
      "10\n"
     ]
    }
   ],
   "source": [
    "number_list = [1, 2, 3, 4, 5, 6, 7, 8, 9, 10]\n",
    "print(max(number_list))"
   ]
  },
  {
   "cell_type": "markdown",
   "metadata": {},
   "source": [
    "### 7. Take a list, say for example this one:\n",
    "### a = [1, 1, 2, 3, 5, 8, 13, 21, 34, 55, 89] and write a program that prints out all the elements of the list that are less than 5."
   ]
  },
  {
   "cell_type": "code",
   "execution_count": 10,
   "metadata": {},
   "outputs": [
    {
     "name": "stdout",
     "output_type": "stream",
     "text": [
      "1\n",
      "1\n",
      "2\n",
      "3\n"
     ]
    }
   ],
   "source": [
    "a = list([1, 1, 2, 3, 5, 8, 13, 21, 34, 55, 89])\n",
    "x = len (a)\n",
    "for i in range(x):\n",
    "    if a[i]<5:\n",
    "        print(a[i])"
   ]
  }
 ],
 "metadata": {
  "kernelspec": {
   "display_name": "Python 3",
   "language": "python",
   "name": "python3"
  },
  "language_info": {
   "codemirror_mode": {
    "name": "ipython",
    "version": 3
   },
   "file_extension": ".py",
   "mimetype": "text/x-python",
   "name": "python",
   "nbconvert_exporter": "python",
   "pygments_lexer": "ipython3",
   "version": "3.10.0"
  }
 },
 "nbformat": 4,
 "nbformat_minor": 2
}
